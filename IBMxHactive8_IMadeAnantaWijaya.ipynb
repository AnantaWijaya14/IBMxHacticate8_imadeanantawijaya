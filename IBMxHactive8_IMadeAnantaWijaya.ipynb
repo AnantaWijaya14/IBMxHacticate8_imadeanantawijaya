{
  "nbformat": 4,
  "nbformat_minor": 0,
  "metadata": {
    "colab": {
      "provenance": []
    },
    "kernelspec": {
      "name": "python3",
      "display_name": "Python 3"
    },
    "language_info": {
      "name": "python"
    }
  },
  "cells": [
    {
      "cell_type": "markdown",
      "source": [
        "## Install depedncies"
      ],
      "metadata": {
        "id": "QLuWKWAHmM1I"
      }
    },
    {
      "cell_type": "code",
      "execution_count": null,
      "metadata": {
        "id": "biunqmYCmJO_"
      },
      "outputs": [],
      "source": [
        "!pip install -U langchain langchain-community langchain-experimental replicate pandas"
      ]
    },
    {
      "cell_type": "markdown",
      "source": [
        "## Import Library"
      ],
      "metadata": {
        "id": "NmlIr2l7mQU_"
      }
    },
    {
      "cell_type": "code",
      "source": [
        "import os\n",
        "import pandas as pd\n",
        "from google.colab import userdata\n",
        "from langchain_community.llms import Replicate\n",
        "from langchain_experimental.agents.agent_toolkits.pandas.base import create_pandas_dataframe_agent\n",
        "from tqdm import tqdm\n"
      ],
      "metadata": {
        "id": "Lp_VfeYymPXK"
      },
      "execution_count": null,
      "outputs": []
    },
    {
      "cell_type": "markdown",
      "source": [
        "## Set API Token for Replicate"
      ],
      "metadata": {
        "id": "dd1wYiDEme66"
      }
    },
    {
      "cell_type": "code",
      "source": [
        "api_token = userdata.get('api_token')\n",
        "os.environ[\"REPLICATE_API_TOKEN\"] = api_token"
      ],
      "metadata": {
        "id": "JGhwCKM1mXBn"
      },
      "execution_count": null,
      "outputs": []
    },
    {
      "cell_type": "markdown",
      "source": [
        "## Load IBM granite"
      ],
      "metadata": {
        "id": "U-kJv23XmneP"
      }
    },
    {
      "cell_type": "code",
      "source": [
        "llm = Replicate(\n",
        "    model=\"ibm-granite/granite-3.3-8b-instruct\"\n",
        ")"
      ],
      "metadata": {
        "id": "O-2r79NHmgor"
      },
      "execution_count": null,
      "outputs": []
    },
    {
      "cell_type": "markdown",
      "source": [
        "## Load Dataset"
      ],
      "metadata": {
        "id": "nTBo5RaPmqrA"
      }
    },
    {
      "cell_type": "code",
      "source": [
        "def load_fasttext_file(filepath):\n",
        "    data = []\n",
        "    with open(filepath, \"r\", encoding=\"utf-8\") as f:\n",
        "        for line in f:\n",
        "            parts = line.strip().split(\" \", 1)\n",
        "            if len(parts) == 2:\n",
        "                label, review = parts\n",
        "                data.append((label, review))\n",
        "    return pd.DataFrame(data, columns=[\"label\", \"review\"])\n",
        "\n",
        "df = load_fasttext_file(\"test.ft.txt\")\n",
        "\n",
        "label_map = {\"__label__1\": \"negative\", \"__label__2\": \"positive\"}\n",
        "df[\"sentiment_label\"] = df[\"label\"].map(label_map)\n",
        "\n",
        "print(\"✅ Dataset Loaded Successfully\")\n",
        "print(df.head(10))"
      ],
      "metadata": {
        "colab": {
          "base_uri": "https://localhost:8080/"
        },
        "id": "zbdwOfOPmqUV",
        "outputId": "bd80b8bc-ee5a-46e7-dc92-985af3cbdeb0"
      },
      "execution_count": null,
      "outputs": [
        {
          "output_type": "stream",
          "name": "stdout",
          "text": [
            "✅ Dataset Loaded Successfully\n",
            "        label                                             review  \\\n",
            "0  __label__2  Great CD: My lovely Pat has one of the GREAT v...   \n",
            "1  __label__2  One of the best game music soundtracks - for a...   \n",
            "2  __label__1  Batteries died within a year ...: I bought thi...   \n",
            "3  __label__2  works fine, but Maha Energy is better: Check o...   \n",
            "4  __label__2  Great for the non-audiophile: Reviewed quite a...   \n",
            "5  __label__1  DVD Player crapped out after one year: I also ...   \n",
            "6  __label__1  Incorrect Disc: I love the style of this, but ...   \n",
            "7  __label__1  DVD menu select problems: I cannot scroll thro...   \n",
            "8  __label__2  Unique Weird Orientalia from the 1930's: Exoti...   \n",
            "9  __label__1  Not an \"ultimate guide\": Firstly,I enjoyed the...   \n",
            "\n",
            "  sentiment_label  \n",
            "0        positive  \n",
            "1        positive  \n",
            "2        negative  \n",
            "3        positive  \n",
            "4        positive  \n",
            "5        negative  \n",
            "6        negative  \n",
            "7        negative  \n",
            "8        positive  \n",
            "9        negative  \n"
          ]
        }
      ]
    },
    {
      "cell_type": "markdown",
      "source": [
        "## Promt for sentiment classification"
      ],
      "metadata": {
        "id": "uMwe2UcZnZfV"
      }
    },
    {
      "cell_type": "markdown",
      "source": [
        "## Sentiment Classification (row-by-row)"
      ],
      "metadata": {
        "id": "PmxAMQ8BkHse"
      }
    },
    {
      "cell_type": "code",
      "source": [
        "def classify_review(text):\n",
        "    prompt = f\"\"\"\n",
        "    Classify the following product review into one of these categories:\n",
        "    - positive\n",
        "    - negative\n",
        "    - neutral\n",
        "\n",
        "    Review: {text}\n",
        "    Answer with only one word: positive, negative, or neutral.\n",
        "    \"\"\"\n",
        "    try:\n",
        "        result = llm.invoke(prompt)\n",
        "        return result.strip().lower()\n",
        "    except Exception:\n",
        "        return \"error\"\n",
        "\n",
        "sample_df = df.head(50).copy()\n",
        "preds = []\n",
        "for r in tqdm(sample_df[\"review\"]):\n",
        "    preds.append(classify_review(r))\n",
        "sample_df[\"predicted_sentiment\"] = preds"
      ],
      "metadata": {
        "colab": {
          "base_uri": "https://localhost:8080/"
        },
        "id": "PBrUSU6Fm0TZ",
        "outputId": "c1021e1a-b6bd-44fa-fc17-f3a61fd0df9c"
      },
      "execution_count": null,
      "outputs": [
        {
          "output_type": "stream",
          "name": "stderr",
          "text": [
            "100%|██████████| 50/50 [00:42<00:00,  1.17it/s]\n"
          ]
        }
      ]
    },
    {
      "cell_type": "markdown",
      "source": [
        "## Analytical Result"
      ],
      "metadata": {
        "id": "cnIP9bCskMQ9"
      }
    },
    {
      "cell_type": "code",
      "source": [
        "print(\"\\n=== Analytical Result ===\")\n",
        "print(sample_df[[\"review\", \"sentiment_label\", \"predicted_sentiment\"]].head(10))\n",
        "\n",
        "distribution = sample_df[\"predicted_sentiment\"].value_counts()\n",
        "print(\"\\nDistribution:\")\n",
        "print(distribution)\n",
        "\n",
        "accuracy = (sample_df[\"predicted_sentiment\"] == sample_df[\"sentiment_label\"]).mean()\n",
        "print(f\"\\nAccuracy: {accuracy:.2%}\")"
      ],
      "metadata": {
        "colab": {
          "base_uri": "https://localhost:8080/"
        },
        "id": "9FJiypjGj3XW",
        "outputId": "df09812c-778f-4daa-86e9-ececc2979ee7"
      },
      "execution_count": null,
      "outputs": [
        {
          "output_type": "stream",
          "name": "stdout",
          "text": [
            "\n",
            "=== Analytical Result ===\n",
            "                                              review sentiment_label  \\\n",
            "0  Great CD: My lovely Pat has one of the GREAT v...        positive   \n",
            "1  One of the best game music soundtracks - for a...        positive   \n",
            "2  Batteries died within a year ...: I bought thi...        negative   \n",
            "3  works fine, but Maha Energy is better: Check o...        positive   \n",
            "4  Great for the non-audiophile: Reviewed quite a...        positive   \n",
            "5  DVD Player crapped out after one year: I also ...        negative   \n",
            "6  Incorrect Disc: I love the style of this, but ...        negative   \n",
            "7  DVD menu select problems: I cannot scroll thro...        negative   \n",
            "8  Unique Weird Orientalia from the 1930's: Exoti...        positive   \n",
            "9  Not an \"ultimate guide\": Firstly,I enjoyed the...        negative   \n",
            "\n",
            "  predicted_sentiment  \n",
            "0            positive  \n",
            "1            positive  \n",
            "2            negative  \n",
            "3            negative  \n",
            "4            positive  \n",
            "5            negative  \n",
            "6            negative  \n",
            "7            negative  \n",
            "8            positive  \n",
            "9             neutral  \n",
            "\n",
            "Distribution:\n",
            "predicted_sentiment\n",
            "positive    27\n",
            "negative    22\n",
            "neutral      1\n",
            "Name: count, dtype: int64\n",
            "\n",
            "Accuracy: 96.00%\n"
          ]
        }
      ]
    },
    {
      "cell_type": "markdown",
      "source": [
        "## Insight & Findings"
      ],
      "metadata": {
        "id": "eRmKgHgbkPTD"
      }
    },
    {
      "cell_type": "code",
      "source": [
        "insight_prompt = f\"\"\"\n",
        "You are a data analyst. Based on the following sentiment analysis results,\n",
        "summarize the insights in clear and logical points.\n",
        "Focus on what the distribution and accuracy imply about customer sentiment.\n",
        "\n",
        "Distribution:\n",
        "{distribution.to_dict()}\n",
        "Accuracy: {accuracy:.2%}\n",
        "\"\"\"\n",
        "insights = llm.invoke(insight_prompt)\n",
        "print(\"\\n=== Insight & Findings ===\")\n",
        "print(insights)"
      ],
      "metadata": {
        "colab": {
          "base_uri": "https://localhost:8080/"
        },
        "id": "-VuxCtpzj4gd",
        "outputId": "570e331f-2376-4739-b620-df08f6b692ac"
      },
      "execution_count": null,
      "outputs": [
        {
          "output_type": "stream",
          "name": "stdout",
          "text": [
            "\n",
            "=== Insight & Findings ===\n",
            "1. The sentiment analysis results indicate a predominantly positive customer sentiment, with 27 instances of positive feedback compared to 22 instances of negative feedback and only 1 instance of neutral feedback. This suggests that customers generally have a favorable view of the product or service under examination.\n",
            "\n",
            "2. The high accuracy rate of 96.00% implies that the sentiment analysis model is highly reliable and accurately identifies customer sentiments. This confidence in the model's performance allows for robust decision-making based on the sentiment analysis results.\n",
            "\n",
            "3. The significant gap between positive and negative sentiments (27 vs. 22) indicates a strong positive bias among customers. This could imply that the product or service meets or exceeds customer expectations in most cases, leading to a positive overall experience.\n",
            "\n",
            "4. The minimal neutral feedback (1 instance) suggests that customers are either strongly satisfied or dissatisfied, with few instances of indifference or ambiguity. This could indicate that the product or service tends to evoke strong reactions rather than lukewarm responses.\n",
            "\n",
            "5. To further enhance customer satisfaction, it would be beneficial to investigate the reasons behind the 22 negative sentiments to identify areas for improvement. Despite the overall positive sentiment, addressing these negative instances can help maintain and even increase customer satisfaction.\n",
            "\n",
            "6. In summary, the sentiment analysis results show a generally positive customer sentiment, with a reliable model and a strong positive bias. This information can guide product development, customer support, and marketing strategies to capitalize on the positive aspects and address any areas of dissatisfaction.\n"
          ]
        }
      ]
    },
    {
      "cell_type": "markdown",
      "source": [
        "## Recommendations"
      ],
      "metadata": {
        "id": "2c8TynBCkSWn"
      }
    },
    {
      "cell_type": "code",
      "source": [
        "recommendation_prompt = f\"\"\"\n",
        "Based on the insights below, provide 3-5 clear, concrete, and actionable\n",
        "recommendations for an e-commerce company to improve their business.\n",
        "\n",
        "Insights:\n",
        "{insights}\n",
        "\"\"\"\n",
        "recommendations = llm.invoke(recommendation_prompt)\n",
        "print(\"\\n=== Recommendations ===\")\n",
        "print(recommendations)"
      ],
      "metadata": {
        "colab": {
          "base_uri": "https://localhost:8080/"
        },
        "id": "kjQac8nMkAqh",
        "outputId": "6c74b9fd-a31d-42f6-dc16-fb505a04386f"
      },
      "execution_count": null,
      "outputs": [
        {
          "output_type": "stream",
          "name": "stdout",
          "text": [
            "\n",
            "=== Recommendations ===\n",
            "Based on the insights provided, here are five actionable recommendations for the e-commerce company to improve their business:\n",
            "\n",
            "1. **Capitalize on Positive Sentiment**: Given the strong positive bias, the company should leverage this by reinforcing successful aspects in marketing campaigns. Utilize positive customer testimonials and reviews in advertisements, social media, and email marketing to attract new customers and build trust.\n",
            "\n",
            "2. **Investigate Negative Feedback**: Despite the overall positive sentiment, the 22 instances of negative feedback represent a significant opportunity for improvement. Conduct a thorough analysis of these negative reviews to identify recurring issues or patterns. Address these concerns by implementing product improvements, adjusting policies, or enhancing customer support processes.\n",
            "\n",
            "3. **Personalize Customer Experiences**: With minimal neutral feedback, it's evident that customers either love or have issues with the product/service. Employ data-driven strategies to segment customers based on their sentiments and preferences. Tailor communication, offers, and product recommendations to individual customer segments to boost satisfaction and loyalty.\n",
            "\n",
            "4. **Proactive Customer Support**: Given the strong reactions evoked by the product or service, establish a robust customer support system to address concerns swiftly and effectively. Implement proactive measures, such as automated follow-up emails post-purchase, to ensure customer satisfaction and minimize the chances of negative feedback escalating.\n",
            "\n",
            "5. **Continuous Monitoring and Improvement**: Maintain and refine the sentiment analysis model to keep up with evolving customer feedback. Regularly reassess customer sentiment and act on emerging trends to ensure ongoing improvement in products, services, and customer experiences. This will help the company stay ahead of competitors and maintain a high level of customer satisfaction.\n",
            "\n",
            "By focusing on these recommendations, the e-commerce company can build upon its existing strengths, address weaknesses, and continuously enhance its offerings to meet and exceed customer expectations.\n"
          ]
        }
      ]
    },
    {
      "cell_type": "markdown",
      "source": [],
      "metadata": {
        "id": "58upJzYlmias"
      }
    }
  ]
}