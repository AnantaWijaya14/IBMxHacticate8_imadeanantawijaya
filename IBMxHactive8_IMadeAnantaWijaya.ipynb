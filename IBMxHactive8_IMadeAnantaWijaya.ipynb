{
  "nbformat": 4,
  "nbformat_minor": 0,
  "metadata": {
    "colab": {
      "provenance": []
    },
    "kernelspec": {
      "name": "python3",
      "display_name": "Python 3"
    },
    "language_info": {
      "name": "python"
    }
  },
  "cells": [
    {
      "cell_type": "markdown",
      "source": [
        "## Install depedncies"
      ],
      "metadata": {
        "id": "QLuWKWAHmM1I"
      }
    },
    {
      "cell_type": "code",
      "execution_count": 12,
      "metadata": {
        "id": "biunqmYCmJO_",
        "colab": {
          "base_uri": "https://localhost:8080/"
        },
        "outputId": "536a2b96-375a-4de0-d849-ca3db283905e"
      },
      "outputs": [
        {
          "output_type": "stream",
          "name": "stdout",
          "text": [
            "Requirement already satisfied: langchain in /usr/local/lib/python3.12/dist-packages (0.3.27)\n",
            "Requirement already satisfied: langchain-community in /usr/local/lib/python3.12/dist-packages (0.3.29)\n",
            "Requirement already satisfied: langchain-experimental in /usr/local/lib/python3.12/dist-packages (0.3.4)\n",
            "Requirement already satisfied: replicate in /usr/local/lib/python3.12/dist-packages (1.0.7)\n",
            "Requirement already satisfied: pandas in /usr/local/lib/python3.12/dist-packages (2.3.2)\n",
            "Requirement already satisfied: matplotlib in /usr/local/lib/python3.12/dist-packages (3.10.6)\n",
            "Requirement already satisfied: langchain-core<1.0.0,>=0.3.72 in /usr/local/lib/python3.12/dist-packages (from langchain) (0.3.75)\n",
            "Requirement already satisfied: langchain-text-splitters<1.0.0,>=0.3.9 in /usr/local/lib/python3.12/dist-packages (from langchain) (0.3.11)\n",
            "Requirement already satisfied: langsmith>=0.1.17 in /usr/local/lib/python3.12/dist-packages (from langchain) (0.4.23)\n",
            "Requirement already satisfied: pydantic<3.0.0,>=2.7.4 in /usr/local/lib/python3.12/dist-packages (from langchain) (2.11.7)\n",
            "Requirement already satisfied: SQLAlchemy<3,>=1.4 in /usr/local/lib/python3.12/dist-packages (from langchain) (2.0.43)\n",
            "Requirement already satisfied: requests<3,>=2 in /usr/local/lib/python3.12/dist-packages (from langchain) (2.32.5)\n",
            "Requirement already satisfied: PyYAML>=5.3 in /usr/local/lib/python3.12/dist-packages (from langchain) (6.0.2)\n",
            "Requirement already satisfied: aiohttp<4.0.0,>=3.8.3 in /usr/local/lib/python3.12/dist-packages (from langchain-community) (3.12.15)\n",
            "Requirement already satisfied: tenacity!=8.4.0,<10,>=8.1.0 in /usr/local/lib/python3.12/dist-packages (from langchain-community) (8.5.0)\n",
            "Requirement already satisfied: dataclasses-json<0.7,>=0.6.7 in /usr/local/lib/python3.12/dist-packages (from langchain-community) (0.6.7)\n",
            "Requirement already satisfied: pydantic-settings<3.0.0,>=2.10.1 in /usr/local/lib/python3.12/dist-packages (from langchain-community) (2.10.1)\n",
            "Requirement already satisfied: httpx-sse<1.0.0,>=0.4.0 in /usr/local/lib/python3.12/dist-packages (from langchain-community) (0.4.1)\n",
            "Requirement already satisfied: numpy>=1.26.2 in /usr/local/lib/python3.12/dist-packages (from langchain-community) (2.0.2)\n",
            "Requirement already satisfied: httpx<1,>=0.21.0 in /usr/local/lib/python3.12/dist-packages (from replicate) (0.28.1)\n",
            "Requirement already satisfied: packaging in /usr/local/lib/python3.12/dist-packages (from replicate) (25.0)\n",
            "Requirement already satisfied: typing_extensions>=4.5.0 in /usr/local/lib/python3.12/dist-packages (from replicate) (4.15.0)\n",
            "Requirement already satisfied: python-dateutil>=2.8.2 in /usr/local/lib/python3.12/dist-packages (from pandas) (2.9.0.post0)\n",
            "Requirement already satisfied: pytz>=2020.1 in /usr/local/lib/python3.12/dist-packages (from pandas) (2025.2)\n",
            "Requirement already satisfied: tzdata>=2022.7 in /usr/local/lib/python3.12/dist-packages (from pandas) (2025.2)\n",
            "Requirement already satisfied: contourpy>=1.0.1 in /usr/local/lib/python3.12/dist-packages (from matplotlib) (1.3.3)\n",
            "Requirement already satisfied: cycler>=0.10 in /usr/local/lib/python3.12/dist-packages (from matplotlib) (0.12.1)\n",
            "Requirement already satisfied: fonttools>=4.22.0 in /usr/local/lib/python3.12/dist-packages (from matplotlib) (4.59.2)\n",
            "Requirement already satisfied: kiwisolver>=1.3.1 in /usr/local/lib/python3.12/dist-packages (from matplotlib) (1.4.9)\n",
            "Requirement already satisfied: pillow>=8 in /usr/local/lib/python3.12/dist-packages (from matplotlib) (11.3.0)\n",
            "Requirement already satisfied: pyparsing>=2.3.1 in /usr/local/lib/python3.12/dist-packages (from matplotlib) (3.2.3)\n",
            "Requirement already satisfied: aiohappyeyeballs>=2.5.0 in /usr/local/lib/python3.12/dist-packages (from aiohttp<4.0.0,>=3.8.3->langchain-community) (2.6.1)\n",
            "Requirement already satisfied: aiosignal>=1.4.0 in /usr/local/lib/python3.12/dist-packages (from aiohttp<4.0.0,>=3.8.3->langchain-community) (1.4.0)\n",
            "Requirement already satisfied: attrs>=17.3.0 in /usr/local/lib/python3.12/dist-packages (from aiohttp<4.0.0,>=3.8.3->langchain-community) (25.3.0)\n",
            "Requirement already satisfied: frozenlist>=1.1.1 in /usr/local/lib/python3.12/dist-packages (from aiohttp<4.0.0,>=3.8.3->langchain-community) (1.7.0)\n",
            "Requirement already satisfied: multidict<7.0,>=4.5 in /usr/local/lib/python3.12/dist-packages (from aiohttp<4.0.0,>=3.8.3->langchain-community) (6.6.4)\n",
            "Requirement already satisfied: propcache>=0.2.0 in /usr/local/lib/python3.12/dist-packages (from aiohttp<4.0.0,>=3.8.3->langchain-community) (0.3.2)\n",
            "Requirement already satisfied: yarl<2.0,>=1.17.0 in /usr/local/lib/python3.12/dist-packages (from aiohttp<4.0.0,>=3.8.3->langchain-community) (1.20.1)\n",
            "Requirement already satisfied: marshmallow<4.0.0,>=3.18.0 in /usr/local/lib/python3.12/dist-packages (from dataclasses-json<0.7,>=0.6.7->langchain-community) (3.26.1)\n",
            "Requirement already satisfied: typing-inspect<1,>=0.4.0 in /usr/local/lib/python3.12/dist-packages (from dataclasses-json<0.7,>=0.6.7->langchain-community) (0.9.0)\n",
            "Requirement already satisfied: anyio in /usr/local/lib/python3.12/dist-packages (from httpx<1,>=0.21.0->replicate) (4.10.0)\n",
            "Requirement already satisfied: certifi in /usr/local/lib/python3.12/dist-packages (from httpx<1,>=0.21.0->replicate) (2025.8.3)\n",
            "Requirement already satisfied: httpcore==1.* in /usr/local/lib/python3.12/dist-packages (from httpx<1,>=0.21.0->replicate) (1.0.9)\n",
            "Requirement already satisfied: idna in /usr/local/lib/python3.12/dist-packages (from httpx<1,>=0.21.0->replicate) (3.10)\n",
            "Requirement already satisfied: h11>=0.16 in /usr/local/lib/python3.12/dist-packages (from httpcore==1.*->httpx<1,>=0.21.0->replicate) (0.16.0)\n",
            "Requirement already satisfied: jsonpatch<2.0,>=1.33 in /usr/local/lib/python3.12/dist-packages (from langchain-core<1.0.0,>=0.3.72->langchain) (1.33)\n",
            "Requirement already satisfied: orjson>=3.9.14 in /usr/local/lib/python3.12/dist-packages (from langsmith>=0.1.17->langchain) (3.11.3)\n",
            "Requirement already satisfied: requests-toolbelt>=1.0.0 in /usr/local/lib/python3.12/dist-packages (from langsmith>=0.1.17->langchain) (1.0.0)\n",
            "Requirement already satisfied: zstandard>=0.23.0 in /usr/local/lib/python3.12/dist-packages (from langsmith>=0.1.17->langchain) (0.24.0)\n",
            "Requirement already satisfied: annotated-types>=0.6.0 in /usr/local/lib/python3.12/dist-packages (from pydantic<3.0.0,>=2.7.4->langchain) (0.7.0)\n",
            "Requirement already satisfied: pydantic-core==2.33.2 in /usr/local/lib/python3.12/dist-packages (from pydantic<3.0.0,>=2.7.4->langchain) (2.33.2)\n",
            "Requirement already satisfied: typing-inspection>=0.4.0 in /usr/local/lib/python3.12/dist-packages (from pydantic<3.0.0,>=2.7.4->langchain) (0.4.1)\n",
            "Requirement already satisfied: python-dotenv>=0.21.0 in /usr/local/lib/python3.12/dist-packages (from pydantic-settings<3.0.0,>=2.10.1->langchain-community) (1.1.1)\n",
            "Requirement already satisfied: six>=1.5 in /usr/local/lib/python3.12/dist-packages (from python-dateutil>=2.8.2->pandas) (1.17.0)\n",
            "Requirement already satisfied: charset_normalizer<4,>=2 in /usr/local/lib/python3.12/dist-packages (from requests<3,>=2->langchain) (3.4.3)\n",
            "Requirement already satisfied: urllib3<3,>=1.21.1 in /usr/local/lib/python3.12/dist-packages (from requests<3,>=2->langchain) (2.5.0)\n",
            "Requirement already satisfied: greenlet>=1 in /usr/local/lib/python3.12/dist-packages (from SQLAlchemy<3,>=1.4->langchain) (3.2.4)\n",
            "Requirement already satisfied: jsonpointer>=1.9 in /usr/local/lib/python3.12/dist-packages (from jsonpatch<2.0,>=1.33->langchain-core<1.0.0,>=0.3.72->langchain) (3.0.0)\n",
            "Requirement already satisfied: mypy-extensions>=0.3.0 in /usr/local/lib/python3.12/dist-packages (from typing-inspect<1,>=0.4.0->dataclasses-json<0.7,>=0.6.7->langchain-community) (1.1.0)\n",
            "Requirement already satisfied: sniffio>=1.1 in /usr/local/lib/python3.12/dist-packages (from anyio->httpx<1,>=0.21.0->replicate) (1.3.1)\n"
          ]
        }
      ],
      "source": [
        "!pip install -U langchain langchain-community langchain-experimental replicate pandas matplotlib"
      ]
    },
    {
      "cell_type": "markdown",
      "source": [
        "## Import Library"
      ],
      "metadata": {
        "id": "NmlIr2l7mQU_"
      }
    },
    {
      "cell_type": "code",
      "source": [
        "import os\n",
        "import pandas as pd\n",
        "import matplotlib.pyplot as plt\n",
        "from google.colab import userdata\n",
        "from langchain_community.llms import Replicate\n",
        "from tqdm import tqdm"
      ],
      "metadata": {
        "id": "Lp_VfeYymPXK"
      },
      "execution_count": 4,
      "outputs": []
    },
    {
      "cell_type": "markdown",
      "source": [
        "## Set API Token for Replicate"
      ],
      "metadata": {
        "id": "dd1wYiDEme66"
      }
    },
    {
      "cell_type": "code",
      "source": [
        "api_token = userdata.get('api_token')\n",
        "os.environ[\"REPLICATE_API_TOKEN\"] = api_token"
      ],
      "metadata": {
        "id": "JGhwCKM1mXBn"
      },
      "execution_count": 5,
      "outputs": []
    },
    {
      "cell_type": "markdown",
      "source": [
        "## Load IBM granite"
      ],
      "metadata": {
        "id": "U-kJv23XmneP"
      }
    },
    {
      "cell_type": "code",
      "source": [
        "llm = Replicate(\n",
        "    model=\"ibm-granite/granite-3.3-8b-instruct\"\n",
        ")"
      ],
      "metadata": {
        "id": "O-2r79NHmgor"
      },
      "execution_count": 6,
      "outputs": []
    },
    {
      "cell_type": "markdown",
      "source": [
        "## Load Dataset"
      ],
      "metadata": {
        "id": "nTBo5RaPmqrA"
      }
    },
    {
      "cell_type": "code",
      "source": [
        "def load_fasttext_file(filepath):\n",
        "    data = []\n",
        "    with open(filepath, \"r\", encoding=\"utf-8\") as f:\n",
        "        for line in f:\n",
        "            parts = line.strip().split(\" \", 1)\n",
        "            if len(parts) == 2:\n",
        "                label, review = parts\n",
        "                data.append((label, review))\n",
        "    return pd.DataFrame(data, columns=[\"label\", \"review\"])\n",
        "\n",
        "df = load_fasttext_file(\"test.ft.txt\")\n",
        "\n",
        "label_map = {\"__label__1\": \"negative\", \"__label__2\": \"positive\"}\n",
        "df[\"sentiment_label\"] = df[\"label\"].map(label_map)\n",
        "\n",
        "print(\"✅ Dataset Loaded Successfully\")\n",
        "print(df.head(10))"
      ],
      "metadata": {
        "colab": {
          "base_uri": "https://localhost:8080/"
        },
        "id": "zbdwOfOPmqUV",
        "outputId": "e6462b5c-a15d-4ba3-8c88-d5a35ad82c2e"
      },
      "execution_count": 9,
      "outputs": [
        {
          "output_type": "stream",
          "name": "stdout",
          "text": [
            "✅ Dataset Loaded Successfully\n",
            "        label                                             review  \\\n",
            "0  __label__2  Great CD: My lovely Pat has one of the GREAT v...   \n",
            "1  __label__2  One of the best game music soundtracks - for a...   \n",
            "2  __label__1  Batteries died within a year ...: I bought thi...   \n",
            "3  __label__2  works fine, but Maha Energy is better: Check o...   \n",
            "4  __label__2  Great for the non-audiophile: Reviewed quite a...   \n",
            "5  __label__1  DVD Player crapped out after one year: I also ...   \n",
            "6  __label__1  Incorrect Disc: I love the style of this, but ...   \n",
            "7  __label__1  DVD menu select problems: I cannot scroll thro...   \n",
            "8  __label__2  Unique Weird Orientalia from the 1930's: Exoti...   \n",
            "9  __label__1  Not an \"ultimate guide\": Firstly,I enjoyed the...   \n",
            "\n",
            "  sentiment_label  \n",
            "0        positive  \n",
            "1        positive  \n",
            "2        negative  \n",
            "3        positive  \n",
            "4        positive  \n",
            "5        negative  \n",
            "6        negative  \n",
            "7        negative  \n",
            "8        positive  \n",
            "9        negative  \n"
          ]
        }
      ]
    },
    {
      "cell_type": "markdown",
      "source": [
        "## Promt for sentiment classification"
      ],
      "metadata": {
        "id": "uMwe2UcZnZfV"
      }
    },
    {
      "cell_type": "markdown",
      "source": [
        "## Sentiment Classification (row-by-row)"
      ],
      "metadata": {
        "id": "PmxAMQ8BkHse"
      }
    },
    {
      "cell_type": "code",
      "source": [
        "def classify_review(text):\n",
        "    prompt = f\"\"\"\n",
        "    Classify the following product review into one of these categories:\n",
        "    - positive\n",
        "    - negative\n",
        "    - neutral\n",
        "\n",
        "    Review: {text}\n",
        "    Answer with only one word: positive, negative, or neutral.\n",
        "    \"\"\"\n",
        "    try:\n",
        "        result = llm.invoke(prompt)\n",
        "        return result.strip().lower()\n",
        "    except Exception:\n",
        "        return \"error\"\n",
        "\n",
        "sample_df = df.head(50).copy()\n",
        "preds = []\n",
        "for r in tqdm(sample_df[\"review\"]):\n",
        "    preds.append(classify_review(r))\n",
        "sample_df[\"predicted_sentiment\"] = preds"
      ],
      "metadata": {
        "colab": {
          "base_uri": "https://localhost:8080/"
        },
        "id": "PBrUSU6Fm0TZ",
        "outputId": "177f26aa-ddaa-4bd6-ac7a-65f7c27552ed"
      },
      "execution_count": 10,
      "outputs": [
        {
          "output_type": "stream",
          "name": "stderr",
          "text": [
            "100%|██████████| 50/50 [00:43<00:00,  1.15it/s]\n"
          ]
        }
      ]
    },
    {
      "cell_type": "markdown",
      "source": [
        "## Analytical Result"
      ],
      "metadata": {
        "id": "cnIP9bCskMQ9"
      }
    },
    {
      "cell_type": "code",
      "source": [
        "print(\"\\n=== Analytical Result ===\")\n",
        "print(sample_df[[\"review\", \"sentiment_label\", \"predicted_sentiment\"]].head(10))\n",
        "\n",
        "distribution = sample_df[\"predicted_sentiment\"].value_counts()\n",
        "print(\"\\nDistribution:\")\n",
        "print(distribution)\n",
        "\n",
        "accuracy = (sample_df[\"predicted_sentiment\"] == sample_df[\"sentiment_label\"]).mean()\n",
        "print(f\"\\nAccuracy: {accuracy:.2%}\")"
      ],
      "metadata": {
        "colab": {
          "base_uri": "https://localhost:8080/"
        },
        "id": "9FJiypjGj3XW",
        "outputId": "2578c990-96b6-4a72-ae9e-504e0336f851"
      },
      "execution_count": 14,
      "outputs": [
        {
          "output_type": "stream",
          "name": "stdout",
          "text": [
            "\n",
            "=== Analytical Result ===\n",
            "                                              review sentiment_label  \\\n",
            "0  Great CD: My lovely Pat has one of the GREAT v...        positive   \n",
            "1  One of the best game music soundtracks - for a...        positive   \n",
            "2  Batteries died within a year ...: I bought thi...        negative   \n",
            "3  works fine, but Maha Energy is better: Check o...        positive   \n",
            "4  Great for the non-audiophile: Reviewed quite a...        positive   \n",
            "5  DVD Player crapped out after one year: I also ...        negative   \n",
            "6  Incorrect Disc: I love the style of this, but ...        negative   \n",
            "7  DVD menu select problems: I cannot scroll thro...        negative   \n",
            "8  Unique Weird Orientalia from the 1930's: Exoti...        positive   \n",
            "9  Not an \"ultimate guide\": Firstly,I enjoyed the...        negative   \n",
            "\n",
            "  predicted_sentiment  \n",
            "0            positive  \n",
            "1            positive  \n",
            "2            negative  \n",
            "3            negative  \n",
            "4            positive  \n",
            "5            negative  \n",
            "6            negative  \n",
            "7            negative  \n",
            "8            positive  \n",
            "9             neutral  \n",
            "\n",
            "Distribution:\n",
            "predicted_sentiment\n",
            "positive    27\n",
            "negative    22\n",
            "neutral      1\n",
            "Name: count, dtype: int64\n",
            "\n",
            "Accuracy: 96.00%\n"
          ]
        }
      ]
    },
    {
      "cell_type": "code",
      "source": [
        "plt.figure(figsize=(6, 4))\n",
        "distribution.plot(kind=\"bar\", color=[\"green\", \"red\", \"gray\"])\n",
        "plt.title(\"Distribusi Sentimen Prediksi (IBM Granite)\")\n",
        "plt.xlabel(\"Sentiment\")\n",
        "plt.ylabel(\"Jumlah Review\")\n",
        "plt.xticks(rotation=0)\n",
        "plt.show()"
      ],
      "metadata": {
        "colab": {
          "base_uri": "https://localhost:8080/",
          "height": 410
        },
        "id": "jwrC6QDGH4ym",
        "outputId": "35c81140-213b-4088-ea72-cd918f2d1652"
      },
      "execution_count": 17,
      "outputs": [
        {
          "output_type": "display_data",
          "data": {
            "text/plain": [
              "<Figure size 600x400 with 1 Axes>"
            ],
            "image/png": "[encoded data removed]"
          },
          "metadata": {}
        }
      ]
    },
    {
      "cell_type": "markdown",
      "source": [
        "## Insight & Findings"
      ],
      "metadata": {
        "id": "eRmKgHgbkPTD"
      }
    },
    {
      "cell_type": "code",
      "source": [
        "insight_prompt = f\"\"\"\n",
        "You are a data analyst. Based on the following sentiment analysis results,\n",
        "summarize the insights in clear and logical points.\n",
        "Focus on what the distribution and accuracy imply about customer sentiment.\n",
        "\n",
        "Distribution:\n",
        "{distribution.to_dict()}\n",
        "Accuracy: {accuracy:.2%}\n",
        "\"\"\"\n",
        "insights = llm.invoke(insight_prompt)\n",
        "print(\"\\n=== Insight & Findings ===\")\n",
        "print(insights)"
      ],
      "metadata": {
        "colab": {
          "base_uri": "https://localhost:8080/"
        },
        "id": "-VuxCtpzj4gd",
        "outputId": "235da6ad-96cb-49a9-a97e-c2f3c0dd896c"
      },
      "execution_count": 15,
      "outputs": [
        {
          "output_type": "stream",
          "name": "stdout",
          "text": [
            "\n",
            "=== Insight & Findings ===\n",
            "1. The sentiment analysis results indicate a slightly positive overall sentiment, as the 'positive' category (27 instances) outnumbers the 'negative' category (22 instances). The 'neutral' category is minimal (1 instance), suggesting that customers are predominantly positive but with a noticeable negative sentiment as well.\n",
            "\n",
            "2. The accuracy of 96.00% suggests that the sentiment analysis model is highly reliable and precise in classifying customer sentiments. This high accuracy implies that the model's interpretation of customer feedback is consistent and trustworthy.\n",
            "\n",
            "3. The distribution shows that a significant portion of customer feedback is positive (approximately 55%), indicating a generally favorable view of the product, service, or topic under consideration. However, the substantial negative sentiment (approximately 45%) signifies areas for improvement and potential issues that need attention.\n",
            "\n",
            "4. The relatively low number of neutral sentiments (1 instance) implies that customers tend to express clear opinions, either positive or negative, rather than remaining neutral. This characteristic can be beneficial for understanding customer preferences and addressing concerns effectively.\n",
            "\n",
            "5. In summary, while the sentiment analysis results suggest a predominantly positive customer sentiment, the significant negative sentiment highlights the importance of addressing customer concerns to maintain and enhance overall satisfaction. The high accuracy of the sentiment analysis model ensures reliable insights for decision-making.\n"
          ]
        }
      ]
    },
    {
      "cell_type": "markdown",
      "source": [
        "## Recommendations"
      ],
      "metadata": {
        "id": "2c8TynBCkSWn"
      }
    },
    {
      "cell_type": "code",
      "source": [
        "recommendation_prompt = f\"\"\"\n",
        "Based on the insights below, provide 3-5 clear, concrete, and actionable\n",
        "recommendations for an e-commerce company to improve their business.\n",
        "\n",
        "Insights:\n",
        "{insights}\n",
        "\"\"\"\n",
        "recommendations = llm.invoke(recommendation_prompt)\n",
        "print(\"\\n=== Recommendations ===\")\n",
        "print(recommendations)"
      ],
      "metadata": {
        "colab": {
          "base_uri": "https://localhost:8080/"
        },
        "id": "kjQac8nMkAqh",
        "outputId": "1cad0484-9404-414a-ce88-195d42892f15"
      },
      "execution_count": 16,
      "outputs": [
        {
          "output_type": "stream",
          "name": "stdout",
          "text": [
            "\n",
            "=== Recommendations ===\n",
            "1. **Prioritize Negative Feedback**: Given that 45% of the sentiments are negative, the e-commerce company should prioritize addressing these concerns. This can be achieved by categorizing the common issues raised in negative feedback and allocating resources to resolve them systematically. For instance, if a significant number of negative sentiments relate to shipping delays, invest in improving logistics or setting clearer customer expectations.\n",
            "\n",
            "2. **Leverage Positive Feedback for Marketing**: With 55% of sentiments being positive, the company should utilize this feedback for marketing purposes. Sharing testimonials, reviews, and success stories on their website, social media, and email campaigns can enhance credibility and attract new customers. This approach not only capitalizes on existing positive sentiment but also encourages potential customers to share similar positive experiences.\n",
            "\n",
            "3. **Implement a Customer Feedback Loop**: Given the clear-cut opinions expressed by customers, the company should establish a robust feedback loop. This can involve automated surveys following purchases, proactive social media monitoring, and regular customer engagement. By actively seeking and responding to feedback, the company demonstrates its commitment to customer satisfaction, which can help mitigate negative sentiments and foster brand loyalty.\n",
            "\n",
            "4. **Invest in Continuous Model Improvement**: The high accuracy of the sentiment analysis model (96.00%) is a valuable asset. However, the company should continuously refine this model by incorporating new data and retraining it periodically. This will ensure that the model remains relevant and accurate in capturing evolving customer sentiments, allowing for timely and informed business decisions.\n",
            "\n",
            "5. **Personalize Customer Experiences**: Utilize the insights from sentiment analysis to personalize customer experiences. For example, if certain products or categories consistently receive positive feedback, recommend them to customers with similar preferences. Conversely, for customers expressing negative sentiments, offer tailored solutions or alternatives to address their concerns, thereby increasing the likelihood of resolution and customer satisfaction.\n",
            "\n",
            "By implementing these recommendations, the e-commerce company can effectively leverage sentiment analysis insights to enhance customer satisfaction, improve product offerings, and drive business growth.\n"
          ]
        }
      ]
    }
  ]
}